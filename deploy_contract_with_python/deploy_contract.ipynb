{
  "nbformat": 4,
  "nbformat_minor": 0,
  "metadata": {
    "colab": {
      "name": "deploy_contract.ipynb",
      "provenance": [],
      "collapsed_sections": []
    },
    "kernelspec": {
      "name": "python3",
      "display_name": "Python 3"
    },
    "language_info": {
      "name": "python"
    }
  },
  "cells": [
    {
      "cell_type": "code",
      "source": [
        "import os\n",
        "#instalamos la libreria cli, la cual es necesaria para interactuar con la web3\n",
        "!npm install -g ganache-cli\n",
        "#creamos un directorio, el cual nos guardará todos los archivos que usemos\n",
        "!mkdir brownie_project\n",
        "#navegamos a dicha carpeta\n",
        "os.chdir('/content/brownie_project')\n",
        "#instalamos eth-brownie lo cual nos permitirá interactuar con la web 3 desde python\n",
        "!pip install eth-brownie\n",
        "# inicializamos un proyecto, esto debe crear una familia de carpetas las cuales son\n",
        "#build \n",
        "#contracts: Aquí pondrmos los contratos a ejecutar (Solidity and Vyper files)\n",
        "#interfaces:\n",
        "#reports: \n",
        "#scripts: Scripts de python para interactuar con los contratos\n",
        "#tests: \n",
        "!brownie init --force\n",
        "\n"
      ],
      "metadata": {
        "colab": {
          "base_uri": "https://localhost:8080/"
        },
        "id": "jZZNsq3zL0ZP",
        "outputId": "9c92a517-b0e3-4979-b669-58cc0804ec22"
      },
      "execution_count": 13,
      "outputs": [
        {
          "output_type": "stream",
          "name": "stdout",
          "text": [
            "\u001b[K\u001b[?25h\u001b[37;40mnpm\u001b[0m \u001b[0m\u001b[30;43mWARN\u001b[0m \u001b[0m\u001b[35mdeprecated\u001b[0m ganache-cli@6.12.2: ganache-cli is now ganache; visit https://trfl.io/g7 for details\n",
            "\u001b[K\u001b[?25h/tools/node/bin/ganache-cli -> /tools/node/lib/node_modules/ganache-cli/cli.js\n",
            "\u001b[K\u001b[?25h+ ganache-cli@6.12.2\n",
            "updated 1 package in 2.69s\n",
            "mkdir: cannot create directory ‘brownie_project’: File exists\n",
            "/bin/bash: line 0: cd: brownie_project: No such file or directory\n",
            "Requirement already satisfied: eth-brownie in /usr/local/lib/python3.7/dist-packages (1.18.1)\n",
            "Requirement already satisfied: mythx-models==1.9.1 in /usr/local/lib/python3.7/dist-packages (from eth-brownie) (1.9.1)\n",
            "Requirement already satisfied: black==22.1.0 in /usr/local/lib/python3.7/dist-packages (from eth-brownie) (22.1.0)\n",
            "Requirement already satisfied: inflection==0.5.0 in /usr/local/lib/python3.7/dist-packages (from eth-brownie) (0.5.0)\n",
            "Requirement already satisfied: semantic-version==2.8.5 in /usr/local/lib/python3.7/dist-packages (from eth-brownie) (2.8.5)\n",
            "Requirement already satisfied: eth-typing==2.3.0 in /usr/local/lib/python3.7/dist-packages (from eth-brownie) (2.3.0)\n",
            "Requirement already satisfied: pythx==1.6.1 in /usr/local/lib/python3.7/dist-packages (from eth-brownie) (1.6.1)\n",
            "Requirement already satisfied: base58==2.1.1 in /usr/local/lib/python3.7/dist-packages (from eth-brownie) (2.1.1)\n",
            "Requirement already satisfied: vvm==0.1.0 in /usr/local/lib/python3.7/dist-packages (from eth-brownie) (0.1.0)\n",
            "Requirement already satisfied: pluggy==1.0.0 in /usr/local/lib/python3.7/dist-packages (from eth-brownie) (1.0.0)\n",
            "Requirement already satisfied: bitarray==1.2.2 in /usr/local/lib/python3.7/dist-packages (from eth-brownie) (1.2.2)\n",
            "Requirement already satisfied: eth-event==1.2.3 in /usr/local/lib/python3.7/dist-packages (from eth-brownie) (1.2.3)\n",
            "Requirement already satisfied: pyrsistent==0.18.1 in /usr/local/lib/python3.7/dist-packages (from eth-brownie) (0.18.1)\n",
            "Requirement already satisfied: lru-dict==1.1.7 in /usr/local/lib/python3.7/dist-packages (from eth-brownie) (1.1.7)\n",
            "Requirement already satisfied: aiohttp==3.8.1 in /usr/local/lib/python3.7/dist-packages (from eth-brownie) (3.8.1)\n",
            "Requirement already satisfied: wrapt==1.13.3 in /usr/local/lib/python3.7/dist-packages (from eth-brownie) (1.13.3)\n",
            "Requirement already satisfied: platformdirs==2.4.1 in /usr/local/lib/python3.7/dist-packages (from eth-brownie) (2.4.1)\n",
            "Requirement already satisfied: eth-rlp==0.2.1 in /usr/local/lib/python3.7/dist-packages (from eth-brownie) (0.2.1)\n",
            "Requirement already satisfied: eth-utils==1.10.0 in /usr/local/lib/python3.7/dist-packages (from eth-brownie) (1.10.0)\n",
            "Requirement already satisfied: pygments-lexer-solidity==0.7.0 in /usr/local/lib/python3.7/dist-packages (from eth-brownie) (0.7.0)\n",
            "Requirement already satisfied: typing-extensions==4.0.1 in /usr/local/lib/python3.7/dist-packages (from eth-brownie) (4.0.1)\n",
            "Requirement already satisfied: mypy-extensions==0.4.3 in /usr/local/lib/python3.7/dist-packages (from eth-brownie) (0.4.3)\n",
            "Requirement already satisfied: hexbytes==0.2.2 in /usr/local/lib/python3.7/dist-packages (from eth-brownie) (0.2.2)\n",
            "Requirement already satisfied: charset-normalizer==2.0.11 in /usr/local/lib/python3.7/dist-packages (from eth-brownie) (2.0.11)\n",
            "Requirement already satisfied: pyparsing==3.0.7 in /usr/local/lib/python3.7/dist-packages (from eth-brownie) (3.0.7)\n",
            "Requirement already satisfied: wcwidth==0.2.5 in /usr/local/lib/python3.7/dist-packages (from eth-brownie) (0.2.5)\n",
            "Requirement already satisfied: py-solc-x==1.1.1 in /usr/local/lib/python3.7/dist-packages (from eth-brownie) (1.1.1)\n",
            "Requirement already satisfied: protobuf==3.19.4 in /usr/local/lib/python3.7/dist-packages (from eth-brownie) (3.19.4)\n",
            "Requirement already satisfied: attrs==21.4.0 in /usr/local/lib/python3.7/dist-packages (from eth-brownie) (21.4.0)\n",
            "Requirement already satisfied: pathspec==0.9.0 in /usr/local/lib/python3.7/dist-packages (from eth-brownie) (0.9.0)\n",
            "Requirement already satisfied: psutil==5.9.0 in /usr/local/lib/python3.7/dist-packages (from eth-brownie) (5.9.0)\n",
            "Requirement already satisfied: python-dotenv==0.16.0 in /usr/local/lib/python3.7/dist-packages (from eth-brownie) (0.16.0)\n",
            "Requirement already satisfied: eth-abi==2.1.1 in /usr/local/lib/python3.7/dist-packages (from eth-brownie) (2.1.1)\n",
            "Requirement already satisfied: pygments==2.11.2 in /usr/local/lib/python3.7/dist-packages (from eth-brownie) (2.11.2)\n",
            "Requirement already satisfied: ipfshttpclient==0.8.0a2 in /usr/local/lib/python3.7/dist-packages (from eth-brownie) (0.8.0a2)\n",
            "Requirement already satisfied: py-solc-ast==1.2.9 in /usr/local/lib/python3.7/dist-packages (from eth-brownie) (1.2.9)\n",
            "Requirement already satisfied: aiosignal==1.2.0 in /usr/local/lib/python3.7/dist-packages (from eth-brownie) (1.2.0)\n",
            "Requirement already satisfied: requests==2.27.1 in /usr/local/lib/python3.7/dist-packages (from eth-brownie) (2.27.1)\n",
            "Requirement already satisfied: python-dateutil==2.8.1 in /usr/local/lib/python3.7/dist-packages (from eth-brownie) (2.8.1)\n",
            "Requirement already satisfied: web3==5.27.0 in /usr/local/lib/python3.7/dist-packages (from eth-brownie) (5.27.0)\n",
            "Requirement already satisfied: multiaddr==0.0.9 in /usr/local/lib/python3.7/dist-packages (from eth-brownie) (0.0.9)\n",
            "Requirement already satisfied: varint==1.0.2 in /usr/local/lib/python3.7/dist-packages (from eth-brownie) (1.0.2)\n",
            "Requirement already satisfied: execnet==1.9.0 in /usr/local/lib/python3.7/dist-packages (from eth-brownie) (1.9.0)\n",
            "Requirement already satisfied: yarl==1.7.2 in /usr/local/lib/python3.7/dist-packages (from eth-brownie) (1.7.2)\n",
            "Requirement already satisfied: tqdm==4.62.3 in /usr/local/lib/python3.7/dist-packages (from eth-brownie) (4.62.3)\n",
            "Requirement already satisfied: prompt-toolkit==3.0.26 in /usr/local/lib/python3.7/dist-packages (from eth-brownie) (3.0.26)\n",
            "Requirement already satisfied: six==1.16.0 in /usr/local/lib/python3.7/dist-packages (from eth-brownie) (1.16.0)\n",
            "Requirement already satisfied: hypothesis==6.27.3 in /usr/local/lib/python3.7/dist-packages (from eth-brownie) (6.27.3)\n",
            "Requirement already satisfied: eth-keys==0.3.4 in /usr/local/lib/python3.7/dist-packages (from eth-brownie) (0.3.4)\n",
            "Requirement already satisfied: toolz==0.11.2 in /usr/local/lib/python3.7/dist-packages (from eth-brownie) (0.11.2)\n",
            "Requirement already satisfied: netaddr==0.8.0 in /usr/local/lib/python3.7/dist-packages (from eth-brownie) (0.8.0)\n",
            "Requirement already satisfied: rlp==2.0.1 in /usr/local/lib/python3.7/dist-packages (from eth-brownie) (2.0.1)\n",
            "Requirement already satisfied: urllib3==1.26.8 in /usr/local/lib/python3.7/dist-packages (from eth-brownie) (1.26.8)\n",
            "Requirement already satisfied: lazy-object-proxy==1.7.1 in /usr/local/lib/python3.7/dist-packages (from eth-brownie) (1.7.1)\n",
            "Requirement already satisfied: idna==3.3 in /usr/local/lib/python3.7/dist-packages (from eth-brownie) (3.3)\n",
            "Requirement already satisfied: pytest-xdist==1.34.0 in /usr/local/lib/python3.7/dist-packages (from eth-brownie) (1.34.0)\n",
            "Requirement already satisfied: dataclassy==0.11.1 in /usr/local/lib/python3.7/dist-packages (from eth-brownie) (0.11.1)\n",
            "Requirement already satisfied: async-timeout==4.0.2 in /usr/local/lib/python3.7/dist-packages (from eth-brownie) (4.0.2)\n",
            "Requirement already satisfied: py==1.11.0 in /usr/local/lib/python3.7/dist-packages (from eth-brownie) (1.11.0)\n",
            "Requirement already satisfied: pycryptodome==3.14.1 in /usr/local/lib/python3.7/dist-packages (from eth-brownie) (3.14.1)\n",
            "Requirement already satisfied: click==8.0.3 in /usr/local/lib/python3.7/dist-packages (from eth-brownie) (8.0.3)\n",
            "Requirement already satisfied: sortedcontainers==2.4.0 in /usr/local/lib/python3.7/dist-packages (from eth-brownie) (2.4.0)\n",
            "Requirement already satisfied: toml==0.10.2 in /usr/local/lib/python3.7/dist-packages (from eth-brownie) (0.10.2)\n",
            "Requirement already satisfied: pytest==6.2.5 in /usr/local/lib/python3.7/dist-packages (from eth-brownie) (6.2.5)\n",
            "Requirement already satisfied: websockets==9.1 in /usr/local/lib/python3.7/dist-packages (from eth-brownie) (9.1)\n",
            "Requirement already satisfied: vyper==0.3.1 in /usr/local/lib/python3.7/dist-packages (from eth-brownie) (0.3.1)\n",
            "Requirement already satisfied: pyjwt==1.7.1 in /usr/local/lib/python3.7/dist-packages (from eth-brownie) (1.7.1)\n",
            "Requirement already satisfied: certifi==2021.10.8 in /usr/local/lib/python3.7/dist-packages (from eth-brownie) (2021.10.8)\n",
            "Requirement already satisfied: tomli==2.0.0 in /usr/local/lib/python3.7/dist-packages (from eth-brownie) (2.0.0)\n",
            "Requirement already satisfied: cytoolz==0.11.2 in /usr/local/lib/python3.7/dist-packages (from eth-brownie) (0.11.2)\n",
            "Requirement already satisfied: pytest-forked==1.4.0 in /usr/local/lib/python3.7/dist-packages (from eth-brownie) (1.4.0)\n",
            "Requirement already satisfied: asttokens==2.0.5 in /usr/local/lib/python3.7/dist-packages (from eth-brownie) (2.0.5)\n",
            "Requirement already satisfied: iniconfig==1.1.1 in /usr/local/lib/python3.7/dist-packages (from eth-brownie) (1.1.1)\n",
            "Requirement already satisfied: eth-account==0.5.7 in /usr/local/lib/python3.7/dist-packages (from eth-brownie) (0.5.7)\n",
            "Requirement already satisfied: pyyaml==5.4.1 in /usr/local/lib/python3.7/dist-packages (from eth-brownie) (5.4.1)\n",
            "Requirement already satisfied: multidict==6.0.2 in /usr/local/lib/python3.7/dist-packages (from eth-brownie) (6.0.2)\n",
            "Requirement already satisfied: eth-keyfile==0.5.1 in /usr/local/lib/python3.7/dist-packages (from eth-brownie) (0.5.1)\n",
            "Requirement already satisfied: frozenlist==1.3.0 in /usr/local/lib/python3.7/dist-packages (from eth-brownie) (1.3.0)\n",
            "Requirement already satisfied: eip712==0.1.0 in /usr/local/lib/python3.7/dist-packages (from eth-brownie) (0.1.0)\n",
            "Requirement already satisfied: parsimonious==0.8.1 in /usr/local/lib/python3.7/dist-packages (from eth-brownie) (0.8.1)\n",
            "Requirement already satisfied: eth-hash[pycryptodome]==0.3.2 in /usr/local/lib/python3.7/dist-packages (from eth-brownie) (0.3.2)\n",
            "Requirement already satisfied: jsonschema==3.2.0 in /usr/local/lib/python3.7/dist-packages (from eth-brownie) (3.2.0)\n",
            "Requirement already satisfied: packaging==21.3 in /usr/local/lib/python3.7/dist-packages (from eth-brownie) (21.3)\n",
            "Requirement already satisfied: asynctest==0.13.0 in /usr/local/lib/python3.7/dist-packages (from aiohttp==3.8.1->eth-brownie) (0.13.0)\n",
            "Requirement already satisfied: typed-ast>=1.4.2 in /usr/local/lib/python3.7/dist-packages (from black==22.1.0->eth-brownie) (1.5.3)\n",
            "Requirement already satisfied: importlib-metadata in /usr/local/lib/python3.7/dist-packages (from click==8.0.3->eth-brownie) (4.11.3)\n",
            "Requirement already satisfied: setuptools in /usr/local/lib/python3.7/dist-packages (from jsonschema==3.2.0->eth-brownie) (57.4.0)\n",
            "Requirement already satisfied: cached-property==1.5.2 in /usr/local/lib/python3.7/dist-packages (from vyper==0.3.1->eth-brownie) (1.5.2)\n",
            "Requirement already satisfied: zipp>=0.5 in /usr/local/lib/python3.7/dist-packages (from importlib-metadata->click==8.0.3->eth-brownie) (3.8.0)\n",
            "Brownie v1.18.1 - Python development framework for Ethereum\n",
            "\n",
            "\u001b[0;1;32mSUCCESS\u001b[0;m: A new Brownie project has been initialized at /content/brownie_project\n"
          ]
        }
      ]
    },
    {
      "cell_type": "code",
      "execution_count": 14,
      "metadata": {
        "colab": {
          "base_uri": "https://localhost:8080/"
        },
        "id": "YnZ5h1pZLCFw",
        "outputId": "7e7f8cc8-c253-48ce-9f3d-f1d35e060877"
      },
      "outputs": [
        {
          "output_type": "stream",
          "name": "stdout",
          "text": [
            "Brownie v1.18.1 - Python development framework for Ethereum\n",
            "\n",
            "Compiling contracts...\n",
            "  Solc version: 0.8.13\n",
            "  Optimizer: Enabled  Runs: 200\n",
            "  EVM Version: Istanbul\n",
            "Generating build data...\n",
            " - destruction\n",
            " - faucet\n",
            " - owned\n",
            "\n",
            "Project has been compiled. Build artifacts saved at /content/brownie_project/build/contracts\n"
          ]
        }
      ],
      "source": [
        "#compilamos nuestros contratos, los archivos.sol de la carpeta contracts\n",
        "!brownie compile\n"
      ]
    },
    {
      "cell_type": "code",
      "source": [
        "#ejecutamos nuestro archivo faucet.py de la carpeta de scripts el cual contiene el deploy del contrato y las interacciones del mismo\n",
        "!brownie run faucet.py"
      ],
      "metadata": {
        "colab": {
          "base_uri": "https://localhost:8080/"
        },
        "id": "kECeNi9yL7W7",
        "outputId": "8deced85-7193-499d-ced0-3394a61b4935"
      },
      "execution_count": 16,
      "outputs": [
        {
          "output_type": "stream",
          "name": "stdout",
          "text": [
            "Brownie v1.18.1 - Python development framework for Ethereum\n",
            "\n",
            "BrownieProject is the active project.\n",
            "\n",
            "Launching 'ganache-cli --port 8545 --gasLimit 12000000 --accounts 10 --hardfork istanbul --mnemonic brownie'...\n",
            "\n",
            "Running '\u001b[0;1;34mscripts/faucet.py\u001b[0;m::\u001b[0;1;36mmain\u001b[0;m'...\n",
            "Transaction sent: \u001b[0;1;34m0x92cf2e4344ff55fc9c539b4accda120620988ce28975af1da60860836f9e30dd\u001b[0;m\n",
            "  Gas price: \u001b[0;1;34m0.0\u001b[0;m gwei   Gas limit: \u001b[0;1;34m12000000\u001b[0;m   Nonce: \u001b[0;1;34m0\u001b[0;m\n",
            "  faucet.constructor confirmed   Block: \u001b[0;1;34m1\u001b[0;m   Gas used: \u001b[0;1;34m202716\u001b[0;m (\u001b[0;1;34m1.69%\u001b[0;m)\n",
            "  faucet deployed at: \u001b[0;1;34m0x3194cBDC3dbcd3E11a07892e7bA5c3394048Cc87\u001b[0;m\n",
            "\n",
            "Faucet at: 0x3194cBDC3dbcd3E11a07892e7bA5c3394048Cc87\n",
            "Balance:   0\n",
            "\n",
            "Account:   0x66aB6D9362d4F35596279692F0251Db635165871\n",
            "Balance:   100000000000000000000\n",
            "\n",
            "Transfer ether to Faucet:\n",
            "Transaction sent: \u001b[0;1;34m0x4724838bb2e89c4585fa0eeffcca701686fa98425e2e12fc5940cb25cdd7cb8a\u001b[0;m\n",
            "  Gas price: \u001b[0;1;34m0.0\u001b[0;m gwei   Gas limit: \u001b[0;1;34m12000000\u001b[0;m   Nonce: \u001b[0;1;34m1\u001b[0;m\n",
            "  Transaction confirmed   Block: \u001b[0;1;34m2\u001b[0;m   Gas used: \u001b[0;1;34m22476\u001b[0;m (\u001b[0;1;34m0.19%\u001b[0;m)\n",
            "\n",
            "Faucet at: 0x3194cBDC3dbcd3E11a07892e7bA5c3394048Cc87\n",
            "Balance:   1000000000000000000\n",
            "\n",
            "Account:   0x66aB6D9362d4F35596279692F0251Db635165871\n",
            "Balance:   99000000000000000000\n",
            "\n",
            "withdraw from Faucet\n",
            "Transaction sent: \u001b[0;1;34m0x1807d3afa2919ba1d300d8cb98d9af4cfe1ca178e6991f998265fed8ca597610\u001b[0;m\n",
            "  Gas price: \u001b[0;1;34m0.0\u001b[0;m gwei   Gas limit: \u001b[0;1;34m12000000\u001b[0;m   Nonce: \u001b[0;1;34m2\u001b[0;m\n",
            "  faucet.withdraw confirmed   Block: \u001b[0;1;34m3\u001b[0;m   Gas used: \u001b[0;1;34m30447\u001b[0;m (\u001b[0;1;34m0.25%\u001b[0;m)\n",
            "\n",
            "Faucet at: 0x3194cBDC3dbcd3E11a07892e7bA5c3394048Cc87\n",
            "Balance:   900000000000000000\n",
            "\n",
            "Account:   0x66aB6D9362d4F35596279692F0251Db635165871\n",
            "Balance:   99100000000000000000\n",
            "Terminating local RPC client...\n"
          ]
        }
      ]
    },
    {
      "cell_type": "code",
      "source": [
        ""
      ],
      "metadata": {
        "id": "p4bpGQQlFyIE"
      },
      "execution_count": null,
      "outputs": []
    }
  ]
}